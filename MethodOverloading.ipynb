{
 "cells": [
  {
   "cell_type": "code",
   "execution_count": 2,
   "id": "9b087882",
   "metadata": {},
   "outputs": [
    {
     "name": "stdout",
     "output_type": "stream",
     "text": [
      "id,name,age\n",
      "id,name,age\n"
     ]
    }
   ],
   "source": [
    "def setData(id,name):\n",
    "    print(\"id,name\")\n",
    "def setData(id,name,age):\n",
    "    print(\"id,name,age\")\n",
    "setData(93,\"Saksham\",21)\n",
    "setData(26,\"Saksham\",21)"
   ]
  },
  {
   "cell_type": "code",
   "execution_count": null,
   "id": "e3e5b595",
   "metadata": {},
   "outputs": [],
   "source": []
  }
 ],
 "metadata": {
  "kernelspec": {
   "display_name": "Python 3 (ipykernel)",
   "language": "python",
   "name": "python3"
  },
  "language_info": {
   "codemirror_mode": {
    "name": "ipython",
    "version": 3
   },
   "file_extension": ".py",
   "mimetype": "text/x-python",
   "name": "python",
   "nbconvert_exporter": "python",
   "pygments_lexer": "ipython3",
   "version": "3.11.7"
  }
 },
 "nbformat": 4,
 "nbformat_minor": 5
}
