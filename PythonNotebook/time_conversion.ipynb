{
 "cells": [
  {
   "cell_type": "code",
   "execution_count": 1,
   "id": "c666c296",
   "metadata": {},
   "outputs": [
    {
     "name": "stdout",
     "output_type": "stream",
     "text": [
      "Enter the time in seconds : 7340\n",
      "2 Hours 2 Minutes 20 Seconds\n"
     ]
    }
   ],
   "source": [
    "sec = int(input(\"Enter the time in seconds : \"))\n",
    "if(sec >= 0):\n",
    "    hour=0\n",
    "    min=0\n",
    "    #conversion of seconds in hours\n",
    "    if(sec >= 3600):\n",
    "        hour = sec // 3600\n",
    "        sec= sec % 3600\n",
    "    # -----------------------------\n",
    "    #conversion of seconds in minutes\n",
    "    if(sec >= 60):\n",
    "        min = sec// 60\n",
    "        sec = sec % 60\n",
    "    # -------------------------------\n",
    "    print(hour,\"Hours\",min,\"Minutes\",sec,\"Seconds\")\n",
    "else:\n",
    "    print(\"Time must be positive\")"
   ]
  },
  {
   "cell_type": "code",
   "execution_count": null,
   "id": "ab66e332",
   "metadata": {},
   "outputs": [],
   "source": []
  }
 ],
 "metadata": {
  "kernelspec": {
   "display_name": "Python 3 (ipykernel)",
   "language": "python",
   "name": "python3"
  },
  "language_info": {
   "codemirror_mode": {
    "name": "ipython",
    "version": 3
   },
   "file_extension": ".py",
   "mimetype": "text/x-python",
   "name": "python",
   "nbconvert_exporter": "python",
   "pygments_lexer": "ipython3",
   "version": "3.11.7"
  }
 },
 "nbformat": 4,
 "nbformat_minor": 5
}
