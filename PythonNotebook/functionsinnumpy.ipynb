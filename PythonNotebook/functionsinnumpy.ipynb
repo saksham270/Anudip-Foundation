{
 "cells": [
  {
   "cell_type": "code",
   "execution_count": 12,
   "id": "99926456",
   "metadata": {},
   "outputs": [
    {
     "name": "stdout",
     "output_type": "stream",
     "text": [
      "New slicing  [3 4 8 5 6]\n",
      "New array  [   1   20    5    9    3    4    8    5    6    2   25    2 2265    3\n",
      "   33]\n",
      "<class 'numpy.ndarray'>\n",
      "<class 'numpy.ndarray'>\n",
      "Old slicing  [0 0 0 0 0]\n",
      "Old array  [   1   20    5    9    0    0    0    0    0    2   25    2 2265    3\n",
      "   33]\n"
     ]
    }
   ],
   "source": [
    "#slicing\n",
    "import numpy as n\n",
    "ar=n.array([1,20,5,9,3,4,8,5,6,2,25,2,2265,3,33])\n",
    "slicing=ar[4:9]\n",
    "print(\"New slicing \",slicing)\n",
    "print(\"New array \",ar)\n",
    "print(type(slicing))\n",
    "print(type(ar))\n",
    "slicing[:]=0\n",
    "print(\"Old slicing \",slicing)\n",
    "print(\"Old array \",ar)"
   ]
  },
  {
   "cell_type": "code",
   "execution_count": 14,
   "id": "d7988466",
   "metadata": {},
   "outputs": [
    {
     "name": "stdout",
     "output_type": "stream",
     "text": [
      "[ 1  2  3  4  5  6  7  8  9 10 11 12 13 14]\n",
      "[ 2  4  6  8 10 12 14]\n"
     ]
    }
   ],
   "source": [
    "#arange\n",
    "import numpy as n\n",
    "ar=n.arange(1,15)\n",
    "print(ar)\n",
    "print(ar[ar%2==0])"
   ]
  },
  {
   "cell_type": "code",
   "execution_count": 15,
   "id": "06cd1146",
   "metadata": {},
   "outputs": [
    {
     "name": "stdout",
     "output_type": "stream",
     "text": [
      "[ 1  2  3  4  5  6  7  8  9 10 11 12 13 14]\n",
      "[2 1 2 1 2 1 2 1 2 1 2 1 2 1]\n"
     ]
    }
   ],
   "source": [
    "#arange\n",
    "import numpy as n\n",
    "ar=n.arange(1,15)\n",
    "print(ar)\n",
    "print(ar[ar%2])"
   ]
  },
  {
   "cell_type": "code",
   "execution_count": 17,
   "id": "1f54da9d",
   "metadata": {},
   "outputs": [
    {
     "name": "stdout",
     "output_type": "stream",
     "text": [
      "2\n",
      "30\n",
      "5\n",
      "2\n",
      "[3.16227766 4.47213595 5.47722558 5.         2.44948974 1.41421356]\n",
      "[-0.54402111  0.91294525 -0.98803162 -0.13235175 -0.2794155   0.90929743]\n",
      "[-0.83907153  0.40808206  0.15425145  0.99120281  0.96017029 -0.41614684]\n"
     ]
    }
   ],
   "source": [
    "#min,max,argmin,argmax,sqrt,sin,cos\n",
    "import numpy as n\n",
    "arr=n.array([10,20,30,25,6,2])\n",
    "print(n.min(arr))\n",
    "print(n.max(arr))\n",
    "print(n.argmin(arr))\n",
    "print(n.argmax(arr))\n",
    "print(n.sqrt(arr))\n",
    "print(n.sin(arr))\n",
    "print(n.cos(arr))"
   ]
  },
  {
   "cell_type": "code",
   "execution_count": 22,
   "id": "61e3447f",
   "metadata": {},
   "outputs": [
    {
     "name": "stdout",
     "output_type": "stream",
     "text": [
      "[[16 11 13]\n",
      " [17 13 16]\n",
      " [ 3 16 11]]\n",
      "116\n",
      "[ 16  27  40  57  70  86  89 105 116]\n",
      "3\n",
      "17\n",
      "---------------\n",
      "[40 46 30]\n",
      "[11 13  3]\n",
      "[16 17 16]\n",
      "[[16 27 40]\n",
      " [17 30 46]\n",
      " [ 3 19 30]]\n"
     ]
    }
   ],
   "source": [
    "#min,max,sum,cumsum in matrices\n",
    "import numpy as n\n",
    "n.random.seed(122)\n",
    "mat=n.random.randint(1,21,9).reshape(3,3)\n",
    "print(mat)\n",
    "print(n.sum(mat))\n",
    "print(n.cumsum(mat))\n",
    "print(n.min(mat))\n",
    "print(n.max(mat))\n",
    "print(\"---------------\")\n",
    "print(n.sum(mat,axis=1))\n",
    "print(n.min(mat,axis=1))\n",
    "print(n.max(mat,axis=1))\n",
    "print(n.cumsum(mat,axis=1))"
   ]
  },
  {
   "cell_type": "code",
   "execution_count": 23,
   "id": "a4d7697c",
   "metadata": {},
   "outputs": [
    {
     "name": "stdout",
     "output_type": "stream",
     "text": [
      "[16 11 13 17 13 16  3 16 11 10]\n",
      "[13 16 16 11 16 10 11 13 17  3]\n",
      "(array([ 3, 10, 11, 13, 16, 17]), array([9, 5, 3, 0, 1, 8], dtype=int64), array([1, 1, 2, 2, 3, 1], dtype=int64))\n"
     ]
    }
   ],
   "source": [
    "import numpy as n\n",
    "n.random.seed(122)\n",
    "mat=n.random.randint(1,21,10)\n",
    "print(mat)\n",
    "n.random.shuffle(mat)\n",
    "print(mat)\n",
    "print(n.unique(mat,return_index=True,return_counts=True))"
   ]
  },
  {
   "cell_type": "code",
   "execution_count": null,
   "id": "6a2357af",
   "metadata": {},
   "outputs": [],
   "source": []
  }
 ],
 "metadata": {
  "kernelspec": {
   "display_name": "Python 3 (ipykernel)",
   "language": "python",
   "name": "python3"
  },
  "language_info": {
   "codemirror_mode": {
    "name": "ipython",
    "version": 3
   },
   "file_extension": ".py",
   "mimetype": "text/x-python",
   "name": "python",
   "nbconvert_exporter": "python",
   "pygments_lexer": "ipython3",
   "version": "3.11.7"
  }
 },
 "nbformat": 4,
 "nbformat_minor": 5
}
