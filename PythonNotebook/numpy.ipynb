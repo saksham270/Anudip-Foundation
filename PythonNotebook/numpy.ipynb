{
 "cells": [
  {
   "cell_type": "code",
   "execution_count": 4,
   "id": "3c2f4b1c",
   "metadata": {},
   "outputs": [
    {
     "name": "stdout",
     "output_type": "stream",
     "text": [
      "[10 30 25 43 21]\n"
     ]
    }
   ],
   "source": [
    "import numpy as np\n",
    "l=[10,30,25,43,21]\n",
    "arr=np.array(l)\n",
    "print(arr)"
   ]
  },
  {
   "cell_type": "code",
   "execution_count": 7,
   "id": "b0c099c2",
   "metadata": {},
   "outputs": [
    {
     "name": "stdout",
     "output_type": "stream",
     "text": [
      "a array 42\n",
      "b array [1 2 3 4 5]\n",
      "c array [[1 2 3]\n",
      " [4 5 6]]\n",
      "d array [[[1 2 3]\n",
      "  [4 5 6]]\n",
      "\n",
      " [[1 2 3]\n",
      "  [4 5 6]]]\n",
      "a array dimen 0\n",
      "b array dimen 1\n",
      "c array dimen 2\n",
      "d array dimen 3\n"
     ]
    }
   ],
   "source": [
    "import numpy as np\n",
    "a=np.array(42)\n",
    "b=np.array([1,2,3,4,5])\n",
    "c=np.array([[1,2,3],[4,5,6]])\n",
    "d=np.array([[[1,2,3],[4,5,6]],[[1,2,3],[4,5,6]]])\n",
    "print(\"a array\",a)\n",
    "print(\"b array\",b)\n",
    "print(\"c array\",c)\n",
    "print(\"d array\",d)\n",
    "print(\"a array dimen\",a.ndim)\n",
    "print(\"b array dimen\",b.ndim)\n",
    "print(\"c array dimen\",c.ndim)\n",
    "print(\"d array dimen\",d.ndim)"
   ]
  },
  {
   "cell_type": "code",
   "execution_count": 9,
   "id": "279dfe58",
   "metadata": {},
   "outputs": [
    {
     "name": "stdout",
     "output_type": "stream",
     "text": [
      "[1 2 3 4 5 6 7]\n",
      "[2 3 4 5]\n",
      "[  1   2   3 100   5   6   7]\n",
      "[  2   3 100   5]\n"
     ]
    }
   ],
   "source": [
    "import numpy as np\n",
    "arr=np.array([1,2,3,4,5,6,7])\n",
    "sarr=arr[1:5]\n",
    "print(arr)\n",
    "print(sarr)\n",
    "sarr[2]=100\n",
    "print(arr)\n",
    "print(sarr)"
   ]
  },
  {
   "cell_type": "code",
   "execution_count": null,
   "id": "6b1b8153",
   "metadata": {},
   "outputs": [],
   "source": []
  }
 ],
 "metadata": {
  "kernelspec": {
   "display_name": "Python 3 (ipykernel)",
   "language": "python",
   "name": "python3"
  },
  "language_info": {
   "codemirror_mode": {
    "name": "ipython",
    "version": 3
   },
   "file_extension": ".py",
   "mimetype": "text/x-python",
   "name": "python",
   "nbconvert_exporter": "python",
   "pygments_lexer": "ipython3",
   "version": "3.11.7"
  }
 },
 "nbformat": 4,
 "nbformat_minor": 5
}
