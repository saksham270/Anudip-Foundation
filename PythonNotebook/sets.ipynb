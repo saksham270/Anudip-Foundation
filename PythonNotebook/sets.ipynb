{
 "cells": [
  {
   "cell_type": "code",
   "execution_count": 4,
   "id": "3d13ff63",
   "metadata": {},
   "outputs": [
    {
     "name": "stdout",
     "output_type": "stream",
     "text": [
      "{'June', 'February', 'April', 'May', 'March', 'January'}\n",
      "{'February', 'May', 'January', 'October', 'August', 'September', 'April', 'June', 'March', 'July'}\n"
     ]
    }
   ],
   "source": [
    "Months={\"January\",\"February\",\"March\",\"April\",\"May\",\"June\"}\n",
    "print(Months)\n",
    "Months.add(\"August\")\n",
    "Months.update([\"July\",\"August\",\"September\",\"October\"]);\n",
    "print(Months)"
   ]
  },
  {
   "cell_type": "code",
   "execution_count": 6,
   "id": "bcad611e",
   "metadata": {},
   "outputs": [
    {
     "name": "stdout",
     "output_type": "stream",
     "text": [
      "{'June', 'February', 'April', 'May', 'March', 'January'}\n",
      "{'June', 'February', 'April', 'May', 'January'}\n"
     ]
    }
   ],
   "source": [
    "Months={\"January\",\"February\",\"March\",\"April\",\"May\",\"June\"}\n",
    "print(Months)\n",
    "Months.remove(\"March\")\n",
    "print(Months)"
   ]
  },
  {
   "cell_type": "code",
   "execution_count": 7,
   "id": "6a7c186b",
   "metadata": {},
   "outputs": [
    {
     "name": "stdout",
     "output_type": "stream",
     "text": [
      "{'banana', 'cherry', 'dell', 'apple', 'microsoft'}\n"
     ]
    }
   ],
   "source": [
    "x={\"apple\",\"banana\",\"cherry\"}\n",
    "y={\"microsoft\",\"apple\",\"dell\"}\n",
    "z=x.union(y)\n",
    "print(z)"
   ]
  }
 ],
 "metadata": {
  "kernelspec": {
   "display_name": "Python 3 (ipykernel)",
   "language": "python",
   "name": "python3"
  },
  "language_info": {
   "codemirror_mode": {
    "name": "ipython",
    "version": 3
   },
   "file_extension": ".py",
   "mimetype": "text/x-python",
   "name": "python",
   "nbconvert_exporter": "python",
   "pygments_lexer": "ipython3",
   "version": "3.11.7"
  }
 },
 "nbformat": 4,
 "nbformat_minor": 5
}
