{
 "cells": [
  {
   "cell_type": "code",
   "execution_count": 7,
   "id": "37a8e3c0",
   "metadata": {},
   "outputs": [
    {
     "name": "stdout",
     "output_type": "stream",
     "text": [
      "File is written\n"
     ]
    }
   ],
   "source": [
    "file=open(\"Saksham.txt\",'w')\n",
    "file.write(\"This is the write command\")\n",
    "file.close()\n",
    "print(\"File is written\")"
   ]
  },
  {
   "cell_type": "code",
   "execution_count": 8,
   "id": "fbe9e304",
   "metadata": {},
   "outputs": [
    {
     "name": "stdout",
     "output_type": "stream",
     "text": [
      "0\n",
      "write\n",
      "17\n"
     ]
    }
   ],
   "source": [
    "file=open(\"Saksham.txt\",'r')\n",
    "print(file.tell())\n",
    "file.seek(12)\n",
    "data=file.read(5)\n",
    "print(data)\n",
    "print(file.tell())\n",
    "file.close()"
   ]
  },
  {
   "cell_type": "code",
   "execution_count": null,
   "id": "83a2e6ae",
   "metadata": {},
   "outputs": [],
   "source": []
  }
 ],
 "metadata": {
  "kernelspec": {
   "display_name": "Python 3 (ipykernel)",
   "language": "python",
   "name": "python3"
  },
  "language_info": {
   "codemirror_mode": {
    "name": "ipython",
    "version": 3
   },
   "file_extension": ".py",
   "mimetype": "text/x-python",
   "name": "python",
   "nbconvert_exporter": "python",
   "pygments_lexer": "ipython3",
   "version": "3.11.7"
  }
 },
 "nbformat": 4,
 "nbformat_minor": 5
}
