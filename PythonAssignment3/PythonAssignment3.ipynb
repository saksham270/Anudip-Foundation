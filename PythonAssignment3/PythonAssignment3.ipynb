{
 "cells": [
  {
   "cell_type": "code",
   "execution_count": 1,
   "id": "02a112b1",
   "metadata": {},
   "outputs": [
    {
     "name": "stdout",
     "output_type": "stream",
     "text": [
      "Error: Cannot divide by zero!\n"
     ]
    }
   ],
   "source": [
    "#to handle a ZeroDivisionError exception when dividing a number by zero\n",
    "try:\n",
    "    num = 10\n",
    "    denominator = 0\n",
    "    result = num / denominator\n",
    "    print(result)\n",
    "except ZeroDivisionError:\n",
    "    print(\"Error: Cannot divide by zero!\")"
   ]
  },
  {
   "cell_type": "code",
   "execution_count": 2,
   "id": "a719bd3e",
   "metadata": {},
   "outputs": [
    {
     "name": "stdout",
     "output_type": "stream",
     "text": [
      "Enter an integer: .\n",
      "Error: Invalid input. Please enter a valid integer.\n"
     ]
    }
   ],
   "source": [
    "#program that prompts the user to input an integer and raises a ValueError exception if the input is not a valid integer\n",
    "try:\n",
    "    input = input(\"Enter an integer: \")\n",
    "    integer_value = int(input)\n",
    "    print(\"You entered:\", integer_value)\n",
    "except ValueError:\n",
    "    print(\"Error: Invalid input. Please enter a valid integer.\")"
   ]
  },
  {
   "cell_type": "code",
   "execution_count": 3,
   "id": "f0e018f7",
   "metadata": {},
   "outputs": [
    {
     "name": "stdout",
     "output_type": "stream",
     "text": [
      "Error: The file 'example.txt' does not exist.\n"
     ]
    }
   ],
   "source": [
    "#program that opens a file and handles a FileNotFoundError exception if the file does not exist\n",
    "try:\n",
    "    f = \"example.txt\"\n",
    "    with open(f, \"r\") as file:\n",
    "        content = file.read()\n",
    "        print(\"File content:\", content)\n",
    "except FileNotFoundError:\n",
    "    print(f\"Error: The file '{f}' does not exist.\")"
   ]
  },
  {
   "cell_type": "code",
   "execution_count": 18,
   "id": "9d323688",
   "metadata": {},
   "outputs": [
    {
     "ename": "TypeError",
     "evalue": "'str' object is not callable",
     "output_type": "error",
     "traceback": [
      "\u001b[1;31m---------------------------------------------------------------------------\u001b[0m",
      "\u001b[1;31mTypeError\u001b[0m                                 Traceback (most recent call last)",
      "Cell \u001b[1;32mIn[18], line 3\u001b[0m\n\u001b[0;32m      1\u001b[0m \u001b[38;5;66;03m#program that prompts the user to input two numbers and raises a TypeError exception if the inputs are not numerical\u001b[39;00m\n\u001b[0;32m      2\u001b[0m \u001b[38;5;28;01mtry\u001b[39;00m:\n\u001b[1;32m----> 3\u001b[0m     num1 \u001b[38;5;241m=\u001b[39m \u001b[38;5;28minput\u001b[39m(\u001b[38;5;124m\"\u001b[39m\u001b[38;5;124mEnter the first number: \u001b[39m\u001b[38;5;124m\"\u001b[39m)\n\u001b[0;32m      4\u001b[0m     num2 \u001b[38;5;241m=\u001b[39m \u001b[38;5;28minput\u001b[39m(\u001b[38;5;124m\"\u001b[39m\u001b[38;5;124mEnter the second number: \u001b[39m\u001b[38;5;124m\"\u001b[39m)\n\u001b[0;32m      5\u001b[0m     num1 \u001b[38;5;241m=\u001b[39m \u001b[38;5;28mfloat\u001b[39m(num1)\n",
      "\u001b[1;31mTypeError\u001b[0m: 'str' object is not callable"
     ]
    }
   ],
   "source": [
    "#program that prompts the user to input two numbers and raises a TypeError exception if the inputs are not numerical\n",
    "try:\n",
    "    num1 = input(\"Enter the first number: \")\n",
    "    num2 = input(\"Enter the second number: \")\n",
    "    num1 = float(num1)\n",
    "    num2 = float(num2)\n",
    "    sum = num1 + num2\n",
    "    print(\"The sum of the two numbers is:\", sum)\n",
    "except ValueError:\n",
    "    print(\"Invalid input. Please enter a numerical value.\")"
   ]
  },
  {
   "cell_type": "code",
   "execution_count": null,
   "id": "80b7ba8f",
   "metadata": {},
   "outputs": [],
   "source": []
  }
 ],
 "metadata": {
  "kernelspec": {
   "display_name": "Python 3 (ipykernel)",
   "language": "python",
   "name": "python3"
  },
  "language_info": {
   "codemirror_mode": {
    "name": "ipython",
    "version": 3
   },
   "file_extension": ".py",
   "mimetype": "text/x-python",
   "name": "python",
   "nbconvert_exporter": "python",
   "pygments_lexer": "ipython3",
   "version": "3.11.7"
  }
 },
 "nbformat": 4,
 "nbformat_minor": 5
}
