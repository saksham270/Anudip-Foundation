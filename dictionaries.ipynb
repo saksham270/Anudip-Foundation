{
 "cells": [
  {
   "cell_type": "code",
   "execution_count": 7,
   "id": "cc7063d3",
   "metadata": {},
   "outputs": [
    {
     "name": "stdout",
     "output_type": "stream",
     "text": [
      "+---------+----------------+------------+-------+---------+-----------+---------+-----------+------------+---------+\n",
      "| stdid   | stdname        | Standard   |   Age |   Hindi |   English |   Maths |   Science |   Computer |   Total |\n",
      "+=========+================+============+=======+=========+===========+=========+===========+============+=========+\n",
      "| std101  | Ashish Kumar   | 10th       |    15 |      67 |        89 |      87 |        89 |         90 |     422 |\n",
      "+---------+----------------+------------+-------+---------+-----------+---------+-----------+------------+---------+\n",
      "| std102  | Abhishek Kumar | 10th       |    14 |      85 |        45 |      48 |        90 |         45 |     313 |\n",
      "+---------+----------------+------------+-------+---------+-----------+---------+-----------+------------+---------+\n",
      "| std103  | Aman           | 10th       |    15 |      23 |        56 |      78 |        78 |         67 |     302 |\n",
      "+---------+----------------+------------+-------+---------+-----------+---------+-----------+------------+---------+\n",
      "| std104  | Rahul          | 10th       |    14 |      45 |        67 |      45 |        45 |         56 |     258 |\n",
      "+---------+----------------+------------+-------+---------+-----------+---------+-----------+------------+---------+\n",
      "| std105  | Ruby           | 10th       |    13 |      89 |        67 |      89 |        93 |         65 |     403 |\n",
      "+---------+----------------+------------+-------+---------+-----------+---------+-----------+------------+---------+\n",
      "| std106  | Suman          | 10th       |    13 |      90 |        46 |      67 |        67 |         67 |     337 |\n",
      "+---------+----------------+------------+-------+---------+-----------+---------+-----------+------------+---------+\n",
      "| std107  | Saurabh        | 10th       |    15 |      45 |        23 |      34 |        45 |         34 |     181 |\n",
      "+---------+----------------+------------+-------+---------+-----------+---------+-----------+------------+---------+\n",
      "| std108  | Sumit          | 10th       |    14 |      23 |        45 |      67 |        78 |         90 |     303 |\n",
      "+---------+----------------+------------+-------+---------+-----------+---------+-----------+------------+---------+\n",
      "| std109  | Kamlesh        | 10th       |    15 |      45 |        56 |      78 |        99 |         67 |     345 |\n",
      "+---------+----------------+------------+-------+---------+-----------+---------+-----------+------------+---------+\n",
      "| std110  | Rohan          | 10th       |    15 |      34 |        12 |      24 |        45 |         56 |     171 |\n",
      "+---------+----------------+------------+-------+---------+-----------+---------+-----------+------------+---------+\n"
     ]
    }
   ],
   "source": [
    "from tabulate import tabulate\n",
    "headers=[\"stdid\",\"stdname\",\"Standard\",\"Age\",\"Hindi\",\"English\",\"Maths\",\"Science\",\"Computer\",\"Total\"]\n",
    "student=[\n",
    "    [\"std101\",\"Ashish Kumar\",\"10th\",15,67,89,87,89,90,422],\n",
    "    [\"std102\",\"Abhishek Kumar\",\"10th\",14,85,45,48,90,45,313],\n",
    "    [\"std103\",\"Aman\",\"10th\",15,23,56,78,78,67,302],\n",
    "    [\"std104\",\"Rahul\",\"10th\",14,45,67,45,45,56,258],\n",
    "    [\"std105\",\"Ruby\",\"10th\",13,89,67,89,93,65,403],\n",
    "    [\"std106\",\"Suman\",\"10th\",13,90,46,67,67,67,337],\n",
    "    [\"std107\",\"Saurabh\",\"10th\",15,45,23,34,45,34,181],\n",
    "    [\"std108\",\"Sumit\",\"10th\",14,23,45,67,78,90,303],\n",
    "    [\"std109\",\"Kamlesh\",\"10th\",15,45,56,78,99,67,345],\n",
    "    [\"std110\",\"Rohan\",\"10th\",15,34,12,24,45,56,171]\n",
    "]\n",
    "student=tabulate(student,headers,tablefmt='grid')\n",
    "print(student)"
   ]
  },
  {
   "cell_type": "code",
   "execution_count": 11,
   "id": "4a46fc5d",
   "metadata": {},
   "outputs": [
    {
     "name": "stdout",
     "output_type": "stream",
     "text": [
      "{'stdid': 'std101', 'stdname': 'Ashish Kumar', 'Standard': '10th', 'Age': 15}\n"
     ]
    }
   ],
   "source": [
    "#dictionary creation\n",
    "student={'stdid':'std101','stdname':'Ashish Kumar','Standard':'10th','Age':15}\n",
    "print(student)"
   ]
  },
  {
   "cell_type": "code",
   "execution_count": 12,
   "id": "38416e3e",
   "metadata": {},
   "outputs": [
    {
     "name": "stdout",
     "output_type": "stream",
     "text": [
      "{'stdid': 'std101', 'stdname': 'Ashish Kumar', 'Standard': '12th', 'Age': 15, 'Hindi': 78}\n"
     ]
    }
   ],
   "source": [
    "#insert an element with key standard\n",
    "student['Standard'] = '12th'\n",
    "#insert element with key hindi\n",
    "student['Hindi'] = 78\n",
    "#------------------------------------\n",
    "print(student)"
   ]
  },
  {
   "cell_type": "code",
   "execution_count": null,
   "id": "fa56bef3",
   "metadata": {},
   "outputs": [],
   "source": []
  }
 ],
 "metadata": {
  "kernelspec": {
   "display_name": "Python 3 (ipykernel)",
   "language": "python",
   "name": "python3"
  },
  "language_info": {
   "codemirror_mode": {
    "name": "ipython",
    "version": 3
   },
   "file_extension": ".py",
   "mimetype": "text/x-python",
   "name": "python",
   "nbconvert_exporter": "python",
   "pygments_lexer": "ipython3",
   "version": "3.11.7"
  }
 },
 "nbformat": 4,
 "nbformat_minor": 5
}
