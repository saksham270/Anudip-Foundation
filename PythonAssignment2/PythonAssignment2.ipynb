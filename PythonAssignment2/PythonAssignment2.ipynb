{
 "cells": [
  {
   "cell_type": "code",
   "execution_count": 1,
   "id": "594c9732",
   "metadata": {},
   "outputs": [
    {
     "name": "stdout",
     "output_type": "stream",
     "text": [
      "INDIA is my country. INDIA is my pride. INDIA , INDIA.\n",
      "INDIA: 4\n"
     ]
    }
   ],
   "source": [
    "#to count the occurrence of word \"INDIA\" in a text file India.txt\n",
    "file=open(\"India.txt\",'w')\n",
    "file.write(\"INDIA is my country. INDIA is my pride. INDIA , INDIA.\")\n",
    "file.close()\n",
    "file=open(\"India.txt\",'r')\n",
    "data=file.read()\n",
    "print(data)\n",
    "words = data.split()\n",
    "counts = 0\n",
    "for word in words:\n",
    "    word = word.strip('.,')  # Remove punctuation\n",
    "    if word ==\"INDIA\":\n",
    "        counts =counts+1\n",
    "print(f\"{word}: {counts}\")\n",
    "file.close()"
   ]
  },
  {
   "cell_type": "code",
   "execution_count": 2,
   "id": "908a1d6e",
   "metadata": {},
   "outputs": [
    {
     "name": "stdout",
     "output_type": "stream",
     "text": [
      "File is written\n",
      "The day was awesome.\n",
      "There are 1 lines that start with 'T'.\n"
     ]
    }
   ],
   "source": [
    "#to count and display the lines starting with \"T\" in a text file story.txt\n",
    "file=open(\"Story.txt\",'w')\n",
    "file.write(\"The day was awesome.\")\n",
    "print(\"File is written\")\n",
    "with open('story.txt', 'r') as file:\n",
    "    lines = file.readlines()\n",
    "    count = 0\n",
    "    for line in lines:\n",
    "        if line.strip().startswith('T'):\n",
    "            print(line.strip())\n",
    "            count += 1\n",
    "    print(f\"There are {count} lines that start with 'T'.\")"
   ]
  },
  {
   "cell_type": "code",
   "execution_count": 3,
   "id": "889e988c",
   "metadata": {},
   "outputs": [
    {
     "name": "stdout",
     "output_type": "stream",
     "text": [
      "File is written\n",
      "Vowels: 7\n",
      "Consonants: 9\n"
     ]
    }
   ],
   "source": [
    "#to count the number of vowels and consonants in a file \"MYfile.txt\"\n",
    "f=open(\"Myfile.txt\",'w')\n",
    "f.write(\"The day was awesome\")\n",
    "print(\"File is written\")\n",
    "vowels = 'aeiou'\n",
    "consonants = 'bcdfghjklmnpqrstvwxyz'\n",
    "\n",
    "with open('MYfile.txt', 'r') as f:\n",
    "    text = f.read().lower()\n",
    "\n",
    "vowel_count = sum(1 for char in text if char in vowels)\n",
    "consonant_count = sum(1 for char in text if char in consonants)\n",
    "\n",
    "print(f'Vowels: {vowel_count}')\n",
    "print(f'Consonants: {consonant_count}')"
   ]
  },
  {
   "cell_type": "code",
   "execution_count": 4,
   "id": "0c724e37",
   "metadata": {},
   "outputs": [
    {
     "name": "stdout",
     "output_type": "stream",
     "text": [
      "File is written\n",
      "Number of words starting with \"i\": 2\n"
     ]
    }
   ],
   "source": [
    "#to count and display the number of words starting with \"i\" in a file Word.txt\n",
    "f=open(\"Word.txt\",'w')\n",
    "f.write(\"I am Indian\")\n",
    "print(\"File is written\")\n",
    "with open('Word.txt', 'r') as f:\n",
    "    words = f.read().split()\n",
    "\n",
    "i_words = [word for word in words if word.lower().startswith('i')]\n",
    "\n",
    "print(f'Number of words starting with \"i\": {len(i_words)}')"
   ]
  },
  {
   "cell_type": "code",
   "execution_count": 22,
   "id": "e41f1f49",
   "metadata": {},
   "outputs": [
    {
     "name": "stdout",
     "output_type": "stream",
     "text": [
      "Content of Notes.txt:\n",
      "This is a short sentence.\n",
      "This is another short sentence.\n",
      "This is a very long sentence with many words.\n",
      "Another example of a short sentence.\n",
      "Another example of a long sentence with many words.\n",
      "This is a five-word sentence exactly.\n",
      "This is a sentence with six words exactly.\n",
      "This is a sentence with seven words exactly.\n",
      "Python is a popular programming language.\n",
      "Data Science is a fascinating field.\n",
      "\n",
      "Lines with more than five words:\n",
      "This is a very long sentence with many words.\n",
      "Another example of a short sentence.\n",
      "Another example of a long sentence with many words.\n",
      "This is a five-word sentence exactly.\n",
      "This is a sentence with six words exactly.\n",
      "This is a sentence with seven words exactly.\n",
      "Python is a popular programming language.\n",
      "Data Science is a fascinating field.\n"
     ]
    }
   ],
   "source": [
    "#to display the lines having more than five words in a text file Notes.txt\n",
    "with open('Notes.txt', 'w') as f:\n",
    "    f.write(\"This is a short sentence.\\n\")\n",
    "    f.write(\"This is another short sentence.\\n\")\n",
    "    f.write(\"This is a very long sentence with many words.\\n\")\n",
    "    f.write(\"Another example of a short sentence.\\n\")\n",
    "    f.write(\"Another example of a long sentence with many words.\\n\")\n",
    "    f.write(\"This is a five-word sentence exactly.\\n\")\n",
    "    f.write(\"This is a sentence with six words exactly.\\n\")\n",
    "    f.write(\"This is a sentence with seven words exactly.\\n\")\n",
    "    f.write(\"Python is a popular programming language.\\n\")\n",
    "    f.write(\"Data Science is a fascinating field.\\n\")\n",
    "\n",
    "print(\"Content of Notes.txt:\")\n",
    "with open('Notes.txt', 'r') as f:\n",
    "    for line in f:\n",
    "        print(line.strip())\n",
    "\n",
    "print(\"\\nLines with more than five words:\")\n",
    "with open('Notes.txt', 'r') as f:\n",
    "    for line in f:\n",
    "        words = line.split()\n",
    "        if len(words) > 5:\n",
    "            print(line.strip())"
   ]
  },
  {
   "cell_type": "code",
   "execution_count": 19,
   "id": "f5cd264d",
   "metadata": {},
   "outputs": [
    {
     "name": "stdout",
     "output_type": "stream",
     "text": [
      "Enter Rollno: 93\n",
      "Enter Name: Saksham\n",
      "Enter Marks: 80\n",
      "Do you want to add another student? (y/n): y\n",
      "Enter Rollno: 26\n",
      "Enter Name: Saksham\n",
      "Enter Marks: 95\n",
      "Do you want to add another student? (y/n): n\n"
     ]
    }
   ],
   "source": [
    "#to create a binary file \"Stu.dat\" and Enter students Rollno., Name and Marks till the user wants\n",
    "import pickle\n",
    "\n",
    "with open('Stu.dat', 'ab') as f:\n",
    "    while True:\n",
    "        rollno = int(input(\"Enter Rollno: \"))\n",
    "        name = input(\"Enter Name: \")\n",
    "        marks = float(input(\"Enter Marks: \"))\n",
    "        student = {'Rollno': rollno, 'Name': name, 'Marks': marks}\n",
    "        pickle.dump(student, f)\n",
    "        choice = input(\"Do you want to add another student? (y/n): \")\n",
    "        if choice.lower()!= 'y':\n",
    "            break"
   ]
  },
  {
   "cell_type": "code",
   "execution_count": 20,
   "id": "331cf971",
   "metadata": {},
   "outputs": [
    {
     "name": "stdout",
     "output_type": "stream",
     "text": [
      "Students with marks greater than 81:\n",
      "Rollno: 26\n",
      "Name: Saksham\n",
      "Marks: 95.0\n",
      "\n"
     ]
    }
   ],
   "source": [
    "#to read a binary file \"Stu.dat\" and display the record of students having marks greater than 81\n",
    "import pickle\n",
    "\n",
    "print(\"Students with marks greater than 81:\")\n",
    "with open('Stu.dat', 'rb') as f:\n",
    "    while True:\n",
    "        try:\n",
    "            student = pickle.load(f)\n",
    "            if student['Marks'] > 81:\n",
    "                print(\"Rollno:\", student['Rollno'])\n",
    "                print(\"Name:\", student['Name'])\n",
    "                print(\"Marks:\", student['Marks'])\n",
    "                print()\n",
    "        except EOFError:\n",
    "            break"
   ]
  },
  {
   "cell_type": "code",
   "execution_count": null,
   "id": "9b2a36d3",
   "metadata": {},
   "outputs": [],
   "source": []
  }
 ],
 "metadata": {
  "kernelspec": {
   "display_name": "Python 3 (ipykernel)",
   "language": "python",
   "name": "python3"
  },
  "language_info": {
   "codemirror_mode": {
    "name": "ipython",
    "version": 3
   },
   "file_extension": ".py",
   "mimetype": "text/x-python",
   "name": "python",
   "nbconvert_exporter": "python",
   "pygments_lexer": "ipython3",
   "version": "3.11.7"
  }
 },
 "nbformat": 4,
 "nbformat_minor": 5
}
