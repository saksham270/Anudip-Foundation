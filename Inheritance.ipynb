{
 "cells": [
  {
   "cell_type": "code",
   "execution_count": 4,
   "id": "53f4b5cc",
   "metadata": {},
   "outputs": [
    {
     "name": "stdout",
     "output_type": "stream",
     "text": [
      "This is show method\n"
     ]
    },
    {
     "ename": "AttributeError",
     "evalue": "'C' object has no attribute 'demo'",
     "output_type": "error",
     "traceback": [
      "\u001b[1;31m---------------------------------------------------------------------------\u001b[0m",
      "\u001b[1;31mAttributeError\u001b[0m                            Traceback (most recent call last)",
      "Cell \u001b[1;32mIn[4], line 13\u001b[0m\n\u001b[0;32m     11\u001b[0m obj\u001b[38;5;241m=\u001b[39mC()\n\u001b[0;32m     12\u001b[0m obj\u001b[38;5;241m.\u001b[39mshow()\n\u001b[1;32m---> 13\u001b[0m obj\u001b[38;5;241m.\u001b[39mdemo()\n",
      "\u001b[1;31mAttributeError\u001b[0m: 'C' object has no attribute 'demo'"
     ]
    }
   ],
   "source": [
    "class A:\n",
    "    def show(self):\n",
    "        print(\"This is show method\")\n",
    "class B(A):\n",
    "    def demo(self):\n",
    "        print(\"Demo method\")\n",
    "class C(A):\n",
    "    pass\n",
    "class D(B,C):\n",
    "    pass\n",
    "obj=C()\n",
    "obj.show()\n",
    "obj.demo()  #Error"
   ]
  },
  {
   "cell_type": "code",
   "execution_count": null,
   "id": "2ed85e8f",
   "metadata": {},
   "outputs": [],
   "source": []
  }
 ],
 "metadata": {
  "kernelspec": {
   "display_name": "Python 3 (ipykernel)",
   "language": "python",
   "name": "python3"
  },
  "language_info": {
   "codemirror_mode": {
    "name": "ipython",
    "version": 3
   },
   "file_extension": ".py",
   "mimetype": "text/x-python",
   "name": "python",
   "nbconvert_exporter": "python",
   "pygments_lexer": "ipython3",
   "version": "3.11.7"
  }
 },
 "nbformat": 4,
 "nbformat_minor": 5
}
