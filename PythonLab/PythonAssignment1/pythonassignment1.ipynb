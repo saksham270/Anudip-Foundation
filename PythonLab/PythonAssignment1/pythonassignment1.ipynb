{
 "cells": [
  {
   "cell_type": "code",
   "execution_count": 1,
   "id": "8503ba4a",
   "metadata": {},
   "outputs": [
    {
     "name": "stdout",
     "output_type": "stream",
     "text": [
      "0.5\n"
     ]
    }
   ],
   "source": [
    "#display division using div() function\n",
    "def div(a,b):\n",
    "    return a/b\n",
    "num1=10\n",
    "num2=20\n",
    "result=div(num1,num2)\n",
    "print(result)"
   ]
  },
  {
   "cell_type": "code",
   "execution_count": 2,
   "id": "dfc5bd1d",
   "metadata": {},
   "outputs": [
    {
     "name": "stdout",
     "output_type": "stream",
     "text": [
      "4\n"
     ]
    }
   ],
   "source": [
    "#display square using square() function\n",
    "def square(sq):\n",
    "    return sq*sq\n",
    "num=2\n",
    "result=square(num)\n",
    "print(result)"
   ]
  },
  {
   "cell_type": "code",
   "execution_count": 3,
   "id": "c9cb4c0f",
   "metadata": {},
   "outputs": [
    {
     "name": "stdout",
     "output_type": "stream",
     "text": [
      "Random numbers:  [21, 31, 2, 2, 34]\n",
      "Maximum no.:  34\n",
      "Minimum no.:  2\n"
     ]
    }
   ],
   "source": [
    "#display maximum and minimum using max() and min() functions\n",
    "import random\n",
    "num=[random.randint(1, 50) for _ in range(5)]\n",
    "print(\"Random numbers: \",num)\n",
    "maximum=max(num)\n",
    "minimum=min(num)\n",
    "print(\"Maximum no.: \",maximum)\n",
    "print(\"Minimum no.: \",minimum)"
   ]
  },
  {
   "cell_type": "code",
   "execution_count": 4,
   "id": "85efa4b9",
   "metadata": {},
   "outputs": [
    {
     "name": "stdout",
     "output_type": "stream",
     "text": [
      "Enter a name: SAKSHAM\n",
      "saksham\n"
     ]
    }
   ],
   "source": [
    "#accept a name from the user and display that in lowercase using lower() function\n",
    "name=str(input(\"Enter a name: \"))\n",
    "print(name.lower())"
   ]
  },
  {
   "cell_type": "code",
   "execution_count": 5,
   "id": "07854bec",
   "metadata": {},
   "outputs": [
    {
     "name": "stdout",
     "output_type": "stream",
     "text": [
      "Word counts:\n",
      "to: 2\n",
      "change: 2\n",
      "the: 3\n",
      "overall: 1\n",
      "look: 2\n",
      "of: 1\n",
      "your: 1\n",
      "document: 1\n",
      "available: 1\n",
      "in: 1\n",
      "gallery: 1\n"
     ]
    }
   ],
   "source": [
    "#to count the occurrences of each word in a given sentence\n",
    "sentence = \"To change the overall look of your document. To change the look available in the gallery\"\n",
    "words = sentence.split()\n",
    "word_counts = {}\n",
    "for word in words:\n",
    "    word = word.lower()\n",
    "    word = ''.join(e for e in word if e.isalnum())\n",
    "    if word in word_counts:\n",
    "        word_counts[word] += 1\n",
    "    else:\n",
    "        word_counts[word] = 1\n",
    "print(\"Word counts:\")\n",
    "for word, count in word_counts.items():\n",
    "    print(f\"{word}: {count}\")"
   ]
  },
  {
   "cell_type": "code",
   "execution_count": 7,
   "id": "a77141fc",
   "metadata": {},
   "outputs": [
    {
     "name": "stdout",
     "output_type": "stream",
     "text": [
      "Best Deeptech Python Training\n"
     ]
    }
   ],
   "source": [
    "#to remove a newline in python\n",
    "string=\"\\nBest \\nDeeptech \\nPython \\nTraining\\n\"\n",
    "newstring=string.replace(\"\\n\",\"\")\n",
    "print(newstring)"
   ]
  },
  {
   "cell_type": "code",
   "execution_count": 1,
   "id": "5c81e77b",
   "metadata": {},
   "outputs": [
    {
     "name": "stdout",
     "output_type": "stream",
     "text": [
      "Training Python Deeptech\n"
     ]
    }
   ],
   "source": [
    "#to reverse words in a string\n",
    "string = \"Deeptech Python Training\"\n",
    "words = string.split()\n",
    "reversed = words[::-1]\n",
    "output = ' '.join(reversed)\n",
    "print(output)"
   ]
  },
  {
   "cell_type": "code",
   "execution_count": 2,
   "id": "37921358",
   "metadata": {},
   "outputs": [
    {
     "name": "stdout",
     "output_type": "stream",
     "text": [
      "Number of vowels:  8\n"
     ]
    }
   ],
   "source": [
    "# to count and display the vowels of a given text\n",
    "string = \"Welcome to python Training\"\n",
    "vowels = \"aeiouAEIOU\"\n",
    "count = 0\n",
    "for char in string:\n",
    "    if char in vowels:\n",
    "        count += 1\n",
    "print(\"Number of vowels: \", count)"
   ]
  },
  {
   "cell_type": "code",
   "execution_count": 3,
   "id": "7f050504",
   "metadata": {},
   "outputs": [
    {
     "name": "stdout",
     "output_type": "stream",
     "text": [
      "Chars = 8\n",
      "Digits = 3\n",
      "Symbol = 4\n"
     ]
    }
   ],
   "source": [
    "#m to Count all letters, digits, and special symbols from the given string\n",
    "input_string = \"P@#yn26at^&i5ve\"\n",
    "chars = 0\n",
    "digits = 0\n",
    "symbols = 0\n",
    "for char in input_string:\n",
    "    if char.isalpha():\n",
    "        chars += 1\n",
    "    elif char.isdigit():\n",
    "        digits += 1\n",
    "    else:\n",
    "        symbols += 1\n",
    "print(\"Chars =\", chars)\n",
    "print(\"Digits =\", digits)\n",
    "print(\"Symbol =\", symbols)"
   ]
  },
  {
   "cell_type": "code",
   "execution_count": 5,
   "id": "46fde5d4",
   "metadata": {},
   "outputs": [
    {
     "name": "stdout",
     "output_type": "stream",
     "text": [
      "String and Function\n"
     ]
    }
   ],
   "source": [
    "#to remove duplicate characters of a given string\n",
    "string = \"String and String Function\"\n",
    "words = string.split()\n",
    "unique = list(dict.fromkeys(words))\n",
    "output = ' '.join(unique)\n",
    "print(output)"
   ]
  },
  {
   "cell_type": "code",
   "execution_count": 7,
   "id": "3e8d0699",
   "metadata": {},
   "outputs": [
    {
     "name": "stdout",
     "output_type": "stream",
     "text": [
      "UpperCase : 3\n",
      "LowerCase : 20\n",
      "NumberCase : 0\n",
      "SpecialCase : 3\n"
     ]
    }
   ],
   "source": [
    "#to count Uppercase, Lowercase, special character and numeric values in a given string\n",
    "string = \"Hell0 W0rld! 123 * # welcome to pYtHoN\"\n",
    "uppercase = sum(1 for char in input_string if char.isupper())\n",
    "lowercase = sum(1 for char in input_string if char.islower())\n",
    "number = sum(1 for char in input_string if char.isdigit())\n",
    "special = sum(1 for char in input_string if not char.isalnum())\n",
    "print(\"UpperCase :\", uppercase)\n",
    "print(\"LowerCase :\", lowercase)\n",
    "print(\"NumberCase :\", number)\n",
    "print(\"SpecialCase :\", special)"
   ]
  },
  {
   "cell_type": "code",
   "execution_count": 9,
   "id": "e79845da",
   "metadata": {},
   "outputs": [
    {
     "name": "stdout",
     "output_type": "stream",
     "text": [
      "Total vowels are: 6\n"
     ]
    }
   ],
   "source": [
    "#to count vowels in a string\n",
    "string = \"Welcome to Python Assignment\"\n",
    "vowels = 'aeiouAEIOU'\n",
    "vowel_count = sum(1 for char in input_string if char in vowels)\n",
    "print(\"Total vowels are:\", vowel_count)"
   ]
  },
  {
   "cell_type": "code",
   "execution_count": null,
   "id": "e356ee94",
   "metadata": {},
   "outputs": [],
   "source": []
  }
 ],
 "metadata": {
  "kernelspec": {
   "display_name": "Python 3 (ipykernel)",
   "language": "python",
   "name": "python3"
  },
  "language_info": {
   "codemirror_mode": {
    "name": "ipython",
    "version": 3
   },
   "file_extension": ".py",
   "mimetype": "text/x-python",
   "name": "python",
   "nbconvert_exporter": "python",
   "pygments_lexer": "ipython3",
   "version": "3.11.7"
  }
 },
 "nbformat": 4,
 "nbformat_minor": 5
}
