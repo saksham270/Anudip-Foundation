{
 "cells": [
  {
   "cell_type": "code",
   "execution_count": 8,
   "id": "704c5388",
   "metadata": {},
   "outputs": [],
   "source": [
    "import csv\n",
    "f=open(\"Saksham.csv\",'a')\n",
    "wo=csv.writer(f)\n",
    "data=[[\"a\",\"b\",\"c\",\"d\"],[16,14,12,10],[26,24,22,20],[36,34,32,30]]\n",
    "wo.writerow(data)\n",
    "f.close()"
   ]
  },
  {
   "cell_type": "code",
   "execution_count": 9,
   "id": "d78dba35",
   "metadata": {},
   "outputs": [
    {
     "name": "stdout",
     "output_type": "stream",
     "text": [
      "[\"['a', 'b', 'c', 'd']\", '[16, 14, 12, 10]', '[26, 24, 22, 20]', '[36, 34, 32, 30]']\n"
     ]
    }
   ],
   "source": [
    "import csv\n",
    "f=open(\"Saksham.csv\",'r')\n",
    "re=csv.reader(f)\n",
    "li=list(re)\n",
    "for row in li:\n",
    "    print(row)"
   ]
  },
  {
   "cell_type": "code",
   "execution_count": null,
   "id": "7089221b",
   "metadata": {},
   "outputs": [],
   "source": []
  }
 ],
 "metadata": {
  "kernelspec": {
   "display_name": "Python 3 (ipykernel)",
   "language": "python",
   "name": "python3"
  },
  "language_info": {
   "codemirror_mode": {
    "name": "ipython",
    "version": 3
   },
   "file_extension": ".py",
   "mimetype": "text/x-python",
   "name": "python",
   "nbconvert_exporter": "python",
   "pygments_lexer": "ipython3",
   "version": "3.11.7"
  }
 },
 "nbformat": 4,
 "nbformat_minor": 5
}
