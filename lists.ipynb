{
 "cells": [
  {
   "cell_type": "code",
   "execution_count": 6,
   "id": "8b3e7c2c",
   "metadata": {},
   "outputs": [
    {
     "name": "stdout",
     "output_type": "stream",
     "text": [
      "List is:\n",
      "[20, 90, 30, 50, 70, 'Hello', 45, 89, 67, 78, 45, 89]\n",
      "---------------------------------------\n",
      "List is:\n",
      "20 90 30 50 70 Hello 45 89 67 78 45 89\n",
      "--------Elements using for loop--------\n",
      "20,90,30,50,70,Hello,45,89,67,78,45,89,"
     ]
    }
   ],
   "source": [
    "#list creation\n",
    "firstlist=[20,90,30,50,70,'Hello',45,89,67,78,45,89]\n",
    "print(\"List is:\")\n",
    "print(firstlist)\n",
    "print(\"---------------------------------------\")\n",
    "print(\"List is:\")\n",
    "print(*firstlist)\n",
    "print(\"--------Elements using for loop--------\")\n",
    "for x in firstlist:\n",
    "    print(x,end=\",\")"
   ]
  },
  {
   "cell_type": "code",
   "execution_count": 34,
   "id": "56a0d082",
   "metadata": {},
   "outputs": [
    {
     "name": "stdout",
     "output_type": "stream",
     "text": [
      "List is: \n",
      "[20, 90, 30, 50, 70, 45, 89, 67, 78, 45, 89, 91, 13, 57, 87, 34, 27, 43, 65, 37]\n",
      "-----------------------------------------------------------\n",
      "Elements in backward direction using forward index:\n",
      "[37, 65, 43, 27, 34, 87, 57, 13, 91, 89, 45, 78, 67, 89, 45, 70, 50, 30, 90, 20]\n",
      "-----------------------------------------------------------\n"
     ]
    },
    {
     "ename": "TypeError",
     "evalue": "'int' object is not callable",
     "output_type": "error",
     "traceback": [
      "\u001b[1;31m---------------------------------------------------------------------------\u001b[0m",
      "\u001b[1;31mTypeError\u001b[0m                                 Traceback (most recent call last)",
      "Cell \u001b[1;32mIn[34], line 8\u001b[0m\n\u001b[0;32m      6\u001b[0m \u001b[38;5;28mprint\u001b[39m(firstlist[\u001b[38;5;241m19\u001b[39m::\u001b[38;5;241m-\u001b[39m\u001b[38;5;241m1\u001b[39m])\n\u001b[0;32m      7\u001b[0m \u001b[38;5;28mprint\u001b[39m(\u001b[38;5;124m\"\u001b[39m\u001b[38;5;124m-----------------------------------------------------------\u001b[39m\u001b[38;5;124m\"\u001b[39m) \n\u001b[1;32m----> 8\u001b[0m n\u001b[38;5;241m=\u001b[39m\u001b[38;5;28mlen\u001b[39m(firstlist)\u001b[38;5;241m-\u001b[39m\u001b[38;5;241m1\u001b[39m\n\u001b[0;32m      9\u001b[0m \u001b[38;5;28;01mfor\u001b[39;00m index \u001b[38;5;129;01min\u001b[39;00m \u001b[38;5;28mrange\u001b[39m(n,\u001b[38;5;241m1\u001b[39m,\u001b[38;5;241m-\u001b[39m\u001b[38;5;241m1\u001b[39m):\n\u001b[0;32m     10\u001b[0m     \u001b[38;5;28mprint\u001b[39m(firstlist[index],end\u001b[38;5;241m=\u001b[39m\u001b[38;5;124m\"\u001b[39m\u001b[38;5;124m,\u001b[39m\u001b[38;5;124m\"\u001b[39m)\n",
      "\u001b[1;31mTypeError\u001b[0m: 'int' object is not callable"
     ]
    }
   ],
   "source": [
    "firstlist=[20,90,30,50,70,45,89,67,78,45,89,91,13,57,87,34,27,43,65,37]\n",
    "print(\"List is: \")\n",
    "print(firstlist)\n",
    "print(\"-----------------------------------------------------------\")\n",
    "print(\"Elements in backward direction using forward index:\")\n",
    "print(firstlist[19::-1])\n",
    "print(\"-----------------------------------------------------------\") \n",
    "n=len(firstlist)-1\n",
    "for index in range(n,1,-1):\n",
    "    print(firstlist[index],end=\",\")"
   ]
  },
  {
   "cell_type": "code",
   "execution_count": 45,
   "id": "9b418781",
   "metadata": {},
   "outputs": [
    {
     "name": "stdout",
     "output_type": "stream",
     "text": [
      "Enter any number: 2\n",
      "[20, 90, 30, 50, 70, 45, 89, 67, 78, 45, 89, 91, 13, 57, 87, 34, 27, 43, 65, 37, 2]\n"
     ]
    }
   ],
   "source": [
    "firstlist=[20,90,30,50,70,45,89,67,78,45,89,91,13,57,87,34,27,43,65,37]\n",
    "x=int(input(\"Enter any number: \"))\n",
    "firstlist.append(x)\n",
    "print(firstlist)"
   ]
  },
  {
   "cell_type": "code",
   "execution_count": 46,
   "id": "8f961922",
   "metadata": {},
   "outputs": [
    {
     "name": "stdout",
     "output_type": "stream",
     "text": [
      "[20, 90, 30, 70, 45, 89, 67, 78, 45, 89, 91, 13, 57, 87, 34, 27, 43, 65, 37]\n"
     ]
    }
   ],
   "source": [
    "firstlist=[20,90,30,50,70,45,89,67,78,45,89,91,13,57,87,34,27,43,65,37]\n",
    "firstlist.pop(3)\n",
    "print(firstlist)"
   ]
  },
  {
   "cell_type": "code",
   "execution_count": null,
   "id": "4c9bef74",
   "metadata": {},
   "outputs": [],
   "source": []
  }
 ],
 "metadata": {
  "kernelspec": {
   "display_name": "Python 3 (ipykernel)",
   "language": "python",
   "name": "python3"
  },
  "language_info": {
   "codemirror_mode": {
    "name": "ipython",
    "version": 3
   },
   "file_extension": ".py",
   "mimetype": "text/x-python",
   "name": "python",
   "nbconvert_exporter": "python",
   "pygments_lexer": "ipython3",
   "version": "3.11.7"
  }
 },
 "nbformat": 4,
 "nbformat_minor": 5
}
