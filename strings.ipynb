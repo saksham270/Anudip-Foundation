{
 "cells": [
  {
   "cell_type": "code",
   "execution_count": 2,
   "id": "fee089fd",
   "metadata": {},
   "outputs": [
    {
     "name": "stdout",
     "output_type": "stream",
     "text": [
      "Saksham\n",
      "Saksham Awasthi\n"
     ]
    }
   ],
   "source": [
    "name=\"Saksham\"\n",
    "print(name)\n",
    "name=name+\" Awasthi\"\n",
    "print(name)"
   ]
  },
  {
   "cell_type": "code",
   "execution_count": 3,
   "id": "62cf2c10",
   "metadata": {},
   "outputs": [
    {
     "name": "stdout",
     "output_type": "stream",
     "text": [
      "1603609039280\n",
      "1603607751600\n"
     ]
    }
   ],
   "source": [
    "name=\"Saksham\"\n",
    "print(id(name))\n",
    "name=name+\" Awasthi\"\n",
    "print(id(name))"
   ]
  },
  {
   "cell_type": "code",
   "execution_count": 4,
   "id": "311f58fa",
   "metadata": {},
   "outputs": [
    {
     "name": "stdout",
     "output_type": "stream",
     "text": [
      "Saksham Awasthi\n",
      "a\n",
      "i\n",
      "s\n",
      "S\n"
     ]
    }
   ],
   "source": [
    "name=\"Saksham Awasthi\"\n",
    "print(name)\n",
    "print(name[1])\n",
    "print(name[-1])\n",
    "print(name[11])\n",
    "print(name[0])"
   ]
  },
  {
   "cell_type": "code",
   "execution_count": 6,
   "id": "a295fc83",
   "metadata": {},
   "outputs": [
    {
     "name": "stdout",
     "output_type": "stream",
     "text": [
      "Saksham Awasthi\n",
      "Saksham A\n"
     ]
    }
   ],
   "source": [
    "name=\"Saksham Awasthi\"\n",
    "print(name)\n",
    "print(name[0:9])"
   ]
  },
  {
   "cell_type": "code",
   "execution_count": 7,
   "id": "a8a0b73e",
   "metadata": {},
   "outputs": [
    {
     "name": "stdout",
     "output_type": "stream",
     "text": [
      "name[::] Saksham Awasthi\n"
     ]
    }
   ],
   "source": [
    "name=\"Saksham Awasthi\"\n",
    "print(\"name[::]\",name[::])"
   ]
  },
  {
   "cell_type": "code",
   "execution_count": 10,
   "id": "5c81fd21",
   "metadata": {},
   "outputs": [
    {
     "name": "stdout",
     "output_type": "stream",
     "text": [
      "Saksham Awasthi\n",
      "name[2:4] ks\n",
      "name[5:9] am A\n",
      "name[:15] Saksham Awasthi\n",
      "name[2:] ksham Awasthi\n",
      "name[:] Saksham Awasthi\n",
      "name[0:17:3] Ssmwt\n",
      "name[::] Saksham Awasthi\n",
      "name[::-1] ihtsawA mahskaS\n"
     ]
    }
   ],
   "source": [
    "name=\"Saksham Awasthi\"\n",
    "print(name)\n",
    "print(\"name[2:4]\",name[2:4])\n",
    "print(\"name[5:9]\",name[5:9])\n",
    "print(\"name[:15]\",name[:15])\n",
    "print(\"name[2:]\",name[2:])\n",
    "print(\"name[:]\",name[:])\n",
    "print(\"name[0:17:3]\",name[0:17:3])\n",
    "print(\"name[::]\",name[::])\n",
    "print(\"name[::-1]\",name[::-1])"
   ]
  },
  {
   "cell_type": "code",
   "execution_count": 12,
   "id": "eb5cbd18",
   "metadata": {},
   "outputs": [
    {
     "name": "stdout",
     "output_type": "stream",
     "text": [
      "saksham awasthi\n",
      "Saksham awasthi\n"
     ]
    }
   ],
   "source": [
    "str=\"saksham awasthi\"\n",
    "print(str)\n",
    "updatedstr=str.capitalize()\n",
    "print(updatedstr)"
   ]
  },
  {
   "cell_type": "code",
   "execution_count": 13,
   "id": "9a43c2cf",
   "metadata": {},
   "outputs": [
    {
     "name": "stdout",
     "output_type": "stream",
     "text": [
      "1603609044464\n",
      "1603608414704\n"
     ]
    }
   ],
   "source": [
    "str=\"saksham awasthi\"\n",
    "print(id(str))\n",
    "updatedstr=str.capitalize()\n",
    "print(id(updatedstr))"
   ]
  },
  {
   "cell_type": "code",
   "execution_count": 19,
   "id": "cf504cd1",
   "metadata": {},
   "outputs": [
    {
     "name": "stdout",
     "output_type": "stream",
     "text": [
      "Old value: Hello\n",
      "New value: *******Hello********\n"
     ]
    }
   ],
   "source": [
    "str=\"Hello\"\n",
    "str2=str.center(20,\"*\")\n",
    "print(\"Old value:\",str)\n",
    "print(\"New value:\",str2)"
   ]
  },
  {
   "cell_type": "code",
   "execution_count": 31,
   "id": "ca593b2d",
   "metadata": {},
   "outputs": [
    {
     "name": "stdout",
     "output_type": "stream",
     "text": [
      "4\n"
     ]
    }
   ],
   "source": [
    "str=\"Saksham awasthi\"\n",
    "count=str.count('a')\n",
    "print(count)"
   ]
  },
  {
   "cell_type": "code",
   "execution_count": 32,
   "id": "5570b3ca",
   "metadata": {},
   "outputs": [
    {
     "name": "stdout",
     "output_type": "stream",
     "text": [
      "1\n"
     ]
    }
   ],
   "source": [
    "str=\"Saksham awasthi\"\n",
    "count=str.count('a',2,6)\n",
    "print(count)"
   ]
  },
  {
   "cell_type": "code",
   "execution_count": 38,
   "id": "9de47994",
   "metadata": {},
   "outputs": [
    {
     "name": "stdout",
     "output_type": "stream",
     "text": [
      "True\n"
     ]
    }
   ],
   "source": [
    "str=\"Saksham awasthi\"\n",
    "s=str.endswith(\"thi\")\n",
    "print(s)"
   ]
  },
  {
   "cell_type": "code",
   "execution_count": 43,
   "id": "fd167d35",
   "metadata": {},
   "outputs": [
    {
     "name": "stdout",
     "output_type": "stream",
     "text": [
      "True\n"
     ]
    }
   ],
   "source": [
    "str=\"Saksham awasthi\"\n",
    "s=str.endswith(\"sh\",0,5)\n",
    "print(s)"
   ]
  },
  {
   "cell_type": "code",
   "execution_count": 48,
   "id": "199126b2",
   "metadata": {},
   "outputs": [
    {
     "name": "stdout",
     "output_type": "stream",
     "text": [
      "1\n"
     ]
    }
   ],
   "source": [
    "str=\"Saksham awasthi\"\n",
    "s=str.find(\"a\")\n",
    "print(s)"
   ]
  },
  {
   "cell_type": "code",
   "execution_count": 51,
   "id": "2986cafc",
   "metadata": {},
   "outputs": [
    {
     "name": "stdout",
     "output_type": "stream",
     "text": [
      "5\n"
     ]
    }
   ],
   "source": [
    "str=\"Saksham awasthi\"\n",
    "s=str.find(\"a\",4,9)\n",
    "print(s)"
   ]
  },
  {
   "cell_type": "code",
   "execution_count": 55,
   "id": "0a474dfb",
   "metadata": {},
   "outputs": [
    {
     "name": "stdout",
     "output_type": "stream",
     "text": [
      "6\n"
     ]
    }
   ],
   "source": [
    "str=\"Saksham awasthi\"\n",
    "s=str.index(\"m\")\n",
    "print(s)"
   ]
  },
  {
   "cell_type": "code",
   "execution_count": 63,
   "id": "3cd68797",
   "metadata": {},
   "outputs": [
    {
     "name": "stdout",
     "output_type": "stream",
     "text": [
      "True\n"
     ]
    }
   ],
   "source": [
    "str=\"Sakshamawasthi2\"\n",
    "s=str.isalnum()\n",
    "print(s)"
   ]
  },
  {
   "cell_type": "code",
   "execution_count": 64,
   "id": "e1069687",
   "metadata": {},
   "outputs": [
    {
     "name": "stdout",
     "output_type": "stream",
     "text": [
      "False\n"
     ]
    }
   ],
   "source": [
    "str=\"Sakshamawasthi.\"\n",
    "s=str.isalnum()\n",
    "print(s)"
   ]
  },
  {
   "cell_type": "code",
   "execution_count": 65,
   "id": "54618075",
   "metadata": {},
   "outputs": [
    {
     "name": "stdout",
     "output_type": "stream",
     "text": [
      "False\n"
     ]
    }
   ],
   "source": [
    "str=\"Saksham awasthi\"\n",
    "s=str.isalnum()\n",
    "print(s)"
   ]
  },
  {
   "cell_type": "code",
   "execution_count": 70,
   "id": "15a6de54",
   "metadata": {},
   "outputs": [
    {
     "name": "stdout",
     "output_type": "stream",
     "text": [
      "True\n"
     ]
    }
   ],
   "source": [
    "str=\"Sakshamawasthi\"\n",
    "s=str.isalpha()\n",
    "print(s)"
   ]
  },
  {
   "cell_type": "code",
   "execution_count": 77,
   "id": "51b185bd",
   "metadata": {},
   "outputs": [
    {
     "name": "stdout",
     "output_type": "stream",
     "text": [
      "True\n"
     ]
    }
   ],
   "source": [
    "str=\"sakshamawasthi2\"\n",
    "s=str.islower()\n",
    "print(s)"
   ]
  },
  {
   "cell_type": "code",
   "execution_count": 80,
   "id": "d3621a0b",
   "metadata": {},
   "outputs": [
    {
     "name": "stdout",
     "output_type": "stream",
     "text": [
      "True\n"
     ]
    }
   ],
   "source": [
    "str=\"SAKSHAMAWASTHI2\"\n",
    "s=str.isupper()\n",
    "print(s)"
   ]
  },
  {
   "cell_type": "code",
   "execution_count": 82,
   "id": "1f34af9a",
   "metadata": {},
   "outputs": [
    {
     "name": "stdout",
     "output_type": "stream",
     "text": [
      "SAKSHAMAWASTHI2\n"
     ]
    }
   ],
   "source": [
    "str=\"Sakshamawasthi2\"\n",
    "s=str.upper()\n",
    "print(s)"
   ]
  },
  {
   "cell_type": "code",
   "execution_count": 84,
   "id": "7a8c10fc",
   "metadata": {},
   "outputs": [
    {
     "name": "stdout",
     "output_type": "stream",
     "text": [
      "sakshamawasthi2\n"
     ]
    }
   ],
   "source": [
    "str=\"SAKSHAMAWASTHI2\"\n",
    "s=str.lower()\n",
    "print(s)"
   ]
  },
  {
   "cell_type": "code",
   "execution_count": 89,
   "id": "90809985",
   "metadata": {},
   "outputs": [
    {
     "name": "stdout",
     "output_type": "stream",
     "text": [
      "Sakshamawasthi   icjw  ... \n"
     ]
    }
   ],
   "source": [
    "str=\"Sakshamawasthi   icjw  ... \"\n",
    "s=str.lstrip()\n",
    "print(s)"
   ]
  },
  {
   "cell_type": "code",
   "execution_count": 99,
   "id": "d8187416",
   "metadata": {},
   "outputs": [
    {
     "name": "stdout",
     "output_type": "stream",
     "text": [
      "Sakshamawasthi   icjw  \n"
     ]
    }
   ],
   "source": [
    "str=\"Sakshamawasthi   icjw  ...\"\n",
    "s=str.rstrip('.')\n",
    "print(s)"
   ]
  },
  {
   "cell_type": "code",
   "execution_count": 121,
   "id": "13252615",
   "metadata": {},
   "outputs": [
    {
     "name": "stdout",
     "output_type": "stream",
     "text": [
      "C is a C programming language\n"
     ]
    }
   ],
   "source": [
    "str=\"java is a java programming language\"\n",
    "s=str.replace(\"java\", \"C\",2)\n",
    "print(s)"
   ]
  },
  {
   "cell_type": "code",
   "execution_count": 122,
   "id": "6b3d1b6d",
   "metadata": {},
   "outputs": [
    {
     "name": "stdout",
     "output_type": "stream",
     "text": [
      "sAKSHAMAWASTHI2\n"
     ]
    }
   ],
   "source": [
    "str=\"Sakshamawasthi2\"\n",
    "s=str.swapcase()\n",
    "print(s)"
   ]
  },
  {
   "cell_type": "code",
   "execution_count": null,
   "id": "983e74c3",
   "metadata": {},
   "outputs": [],
   "source": []
  }
 ],
 "metadata": {
  "kernelspec": {
   "display_name": "Python 3 (ipykernel)",
   "language": "python",
   "name": "python3"
  },
  "language_info": {
   "codemirror_mode": {
    "name": "ipython",
    "version": 3
   },
   "file_extension": ".py",
   "mimetype": "text/x-python",
   "name": "python",
   "nbconvert_exporter": "python",
   "pygments_lexer": "ipython3",
   "version": "3.11.7"
  }
 },
 "nbformat": 4,
 "nbformat_minor": 5
}
