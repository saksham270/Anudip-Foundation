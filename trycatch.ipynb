{
 "cells": [
  {
   "cell_type": "code",
   "execution_count": 1,
   "id": "84480a60",
   "metadata": {},
   "outputs": [
    {
     "name": "stdout",
     "output_type": "stream",
     "text": [
      "Line 1 \n",
      "Line 2 \n",
      "Line 3 \n",
      "Line 4 \n",
      "Enter first number: 24\n",
      "Enter division number: 12\n",
      "2.0\n",
      "inside a try \n",
      "Line 5 \n",
      "Line 6 \n",
      "Line 7 \n"
     ]
    }
   ],
   "source": [
    "print(\"Line 1 \")\n",
    "print(\"Line 2 \")\n",
    "print(\"Line 3 \")\n",
    "print(\"Line 4 \")\n",
    "num1=int(input(\"Enter first number: \"))\n",
    "num2=int(input(\"Enter division number: \"))\n",
    "try:\n",
    "    print(num1/num2)\n",
    "    print(\"inside a try \")\n",
    "except ZerodivisionError as e:\n",
    "    print(\"Error: Division by zero is not allowed.\")\n",
    "print(\"Line 5 \")\n",
    "print(\"Line 6 \")\n",
    "print(\"Line 7 \")"
   ]
  },
  {
   "cell_type": "code",
   "execution_count": 2,
   "id": "707b4ffb",
   "metadata": {},
   "outputs": [
    {
     "name": "stdout",
     "output_type": "stream",
     "text": [
      "Line 1 \n",
      "Line 2 \n",
      "Line 3 \n",
      "Line 4 \n",
      "Enter first number: 24\n",
      "Enter division number: 12\n",
      "2.0\n",
      "Line 5 \n"
     ]
    }
   ],
   "source": [
    "print(\"Line 1 \")\n",
    "print(\"Line 2 \")\n",
    "print(\"Line 3 \")\n",
    "print(\"Line 4 \")\n",
    "num1=int(input(\"Enter first number: \"))\n",
    "num2=int(input(\"Enter division number: \"))\n",
    "try:\n",
    "    print(num1/num2)\n",
    "    open(\"Saksham.txt\")\n",
    "except (ZerodivisionError,FileNotFoundError):\n",
    "    print(\"Something went wrong\")\n",
    "print(\"Line 5 \")"
   ]
  },
  {
   "cell_type": "code",
   "execution_count": 3,
   "id": "17e69595",
   "metadata": {},
   "outputs": [
    {
     "name": "stdout",
     "output_type": "stream",
     "text": [
      "Line 1 \n",
      "Line 2 \n",
      "Line 3 \n",
      "Line 4 \n",
      "Enter first number: 24\n",
      "Enter division number: 12\n",
      "2.0\n",
      "Line 5 \n"
     ]
    }
   ],
   "source": [
    "print(\"Line 1 \")\n",
    "print(\"Line 2 \")\n",
    "print(\"Line 3 \")\n",
    "print(\"Line 4 \")\n",
    "num1=int(input(\"Enter first number: \"))\n",
    "num2=int(input(\"Enter division number: \"))\n",
    "try:\n",
    "    print(num1/num2)\n",
    "    open(\"Saksham.txt\")\n",
    "except:  #Now it will handle all the exceptions and we do not have to manage anyt\n",
    "    print(\"Something went wrong\")\n",
    "print(\"Line 5 \")"
   ]
  },
  {
   "cell_type": "code",
   "execution_count": 6,
   "id": "9e3968f4",
   "metadata": {},
   "outputs": [
    {
     "name": "stdout",
     "output_type": "stream",
     "text": [
      "Line 1 \n",
      "Line 2 \n",
      "Line 3 \n",
      "Line 4 \n",
      "Enter first number: 50\n",
      "Enter division number: 5\n",
      "10.0\n",
      "Else block\n",
      "Finally block\n",
      "Line 5 \n"
     ]
    }
   ],
   "source": [
    "print(\"Line 1 \")\n",
    "print(\"Line 2 \")\n",
    "print(\"Line 3 \")\n",
    "print(\"Line 4 \")\n",
    "num1=int(input(\"Enter first number: \"))\n",
    "num2=int(input(\"Enter division number: \"))\n",
    "try:\n",
    "    print(num1/num2)\n",
    "except:\n",
    "    print(\"Something went wrong\")\n",
    "else:\n",
    "    print(\"Else block\")\n",
    "finally:\n",
    "    print(\"Finally block\")\n",
    "print(\"Line 5 \")"
   ]
  },
  {
   "cell_type": "code",
   "execution_count": null,
   "id": "cdaa6b22",
   "metadata": {},
   "outputs": [],
   "source": []
  }
 ],
 "metadata": {
  "kernelspec": {
   "display_name": "Python 3 (ipykernel)",
   "language": "python",
   "name": "python3"
  },
  "language_info": {
   "codemirror_mode": {
    "name": "ipython",
    "version": 3
   },
   "file_extension": ".py",
   "mimetype": "text/x-python",
   "name": "python",
   "nbconvert_exporter": "python",
   "pygments_lexer": "ipython3",
   "version": "3.11.7"
  }
 },
 "nbformat": 4,
 "nbformat_minor": 5
}
